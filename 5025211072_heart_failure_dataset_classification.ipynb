{
  "nbformat": 4,
  "nbformat_minor": 0,
  "metadata": {
    "colab": {
      "provenance": [],
      "authorship_tag": "ABX9TyMjc4F170+nAiVh9D72fjtn",
      "include_colab_link": true
    },
    "kernelspec": {
      "name": "python3",
      "display_name": "Python 3"
    },
    "language_info": {
      "name": "python"
    }
  },
  "cells": [
    {
      "cell_type": "markdown",
      "metadata": {
        "id": "view-in-github",
        "colab_type": "text"
      },
      "source": [
        "<a href=\"https://colab.research.google.com/github/Pascalrjt/heart_failure_dataset_classification.ipynb/blob/main/5025211072_heart_failure_dataset_classification.ipynb\" target=\"_parent\"><img src=\"https://colab.research.google.com/assets/colab-badge.svg\" alt=\"Open In Colab\"/></a>"
      ]
    },
    {
      "cell_type": "code",
      "source": [
        "pip install ucimlrepo"
      ],
      "metadata": {
        "colab": {
          "base_uri": "https://localhost:8080/"
        },
        "id": "WbOu0ALpD77Q",
        "outputId": "1b060271-939d-4ea4-c062-6e8ffeea340a"
      },
      "execution_count": 5,
      "outputs": [
        {
          "output_type": "stream",
          "name": "stdout",
          "text": [
            "Collecting ucimlrepo\n",
            "  Downloading ucimlrepo-0.0.2-py3-none-any.whl (7.0 kB)\n",
            "Installing collected packages: ucimlrepo\n",
            "Successfully installed ucimlrepo-0.0.2\n"
          ]
        }
      ]
    },
    {
      "cell_type": "code",
      "execution_count": 6,
      "metadata": {
        "id": "2G-56wWDDYtz"
      },
      "outputs": [],
      "source": [
        "# Surpress warnings:\n",
        "def warn(*args, **kwargs):\n",
        "    pass\n",
        "import warnings\n",
        "warnings.warn = warn\n",
        "\n",
        "import numpy as np\n",
        "import pandas as pd\n",
        "import requests\n",
        "import zipfile\n",
        "from sklearn.cluster import KMeans\n",
        "from sklearn.preprocessing import StandardScaler\n",
        "import matplotlib.pyplot as plt\n"
      ]
    },
    {
      "cell_type": "code",
      "source": [
        "from ucimlrepo import fetch_ucirepo\n",
        "\n",
        "# fetch dataset\n",
        "heart_failure_clinical_records = fetch_ucirepo(id=519)\n",
        "\n",
        "# data (as pandas dataframes)\n",
        "X = heart_failure_clinical_records.data.features\n",
        "y = heart_failure_clinical_records.data.targets\n",
        "\n",
        "# metadata\n",
        "print(heart_failure_clinical_records.metadata)\n",
        "\n",
        "# variable information\n",
        "print(heart_failure_clinical_records.variables)\n"
      ],
      "metadata": {
        "colab": {
          "base_uri": "https://localhost:8080/"
        },
        "id": "shrYCbweDkog",
        "outputId": "1bdcb1ca-7f6a-42cb-be2d-327c43af6748"
      },
      "execution_count": 7,
      "outputs": [
        {
          "output_type": "stream",
          "name": "stdout",
          "text": [
            "{'uci_id': 519, 'name': 'Heart failure clinical records', 'repository_url': 'https://archive.ics.uci.edu/dataset/519/heart+failure+clinical+records', 'data_url': 'https://archive.ics.uci.edu/static/public/519/data.csv', 'abstract': 'This dataset contains the medical records of 299 patients who had heart failure, collected during their follow-up period, where each patient profile has 13 clinical features.', 'area': 'Life Science', 'tasks': ['Classification', 'Regression', 'Clustering'], 'characteristics': ['Multivariate'], 'num_instances': 299, 'num_features': 12, 'feature_types': ['Integer', 'Real'], 'demographics': ['Age', 'Sex'], 'target_col': ['death_event'], 'index_col': None, 'has_missing_values': 'no', 'missing_values_symbol': None, 'year_of_dataset_creation': 2020, 'last_updated': 'Sat Sep 09 2023', 'dataset_doi': '10.24432/C5Z89R', 'creators': [], 'intro_paper': {'title': 'Machine learning can predict survival of patients with heart failure from serum creatinine and ejection fraction alone', 'authors': 'D. Chicco, Giuseppe Jurman', 'published_in': 'BMC Medical Informatics and Decision Making', 'year': 2020, 'url': 'https://www.semanticscholar.org/paper/e64579d8593140396b518682bb3a47ba246684eb', 'doi': None}, 'additional_info': {'summary': 'A detailed description of the dataset can be found in the Dataset section of the following paper: \\r\\n\\r\\nDavide Chicco, Giuseppe Jurman: \"Machine learning can predict survival of patients with heart failure from serum creatinine and ejection fraction alone\". BMC Medical Informatics and Decision Making 20, 16 (2020). https://doi.org/10.1186/s12911-020-1023-5 \\r\\n', 'purpose': None, 'funded_by': None, 'instances_represent': None, 'recommended_data_splits': None, 'sensitive_data': None, 'preprocessing_description': None, 'variable_info': 'Thirteen (13) clinical features:\\n\\n- age: age of the patient (years)\\n- anaemia: decrease of red blood cells or hemoglobin (boolean)\\n- creatinine phosphokinase  (CPK): level of the CPK enzyme in the blood (mcg/L)\\n- diabetes: if the patient has diabetes (boolean)\\n- ejection fraction: percentage of blood leaving the heart at each contraction  (percentage)\\n- high blood pressure: if the patient has hypertension (boolean)\\n- platelets: platelets in the blood (kiloplatelets/mL)\\n- sex: woman or man (binary)\\n- serum creatinine: level of serum creatinine in the blood (mg/dL)\\n- serum sodium: level of serum sodium in the blood (mEq/L)\\n- smoking: if the patient smokes or not (boolean)\\n- time: follow-up period (days)\\n- [target] death event: if the patient died during the follow-up period (boolean)\\n\\nFor more information, please check Table 1, Table 2, and Table 3 of the following paper: \\n\\nDavide Chicco, Giuseppe Jurman: \"Machine learning can predict survival of patients with heart failure from serum creatinine and ejection fraction alone\". BMC Medical Informatics and Decision Making 20, 16 (2020). https://doi.org/10.1186/s12911-020-1023-5 \\n', 'citation': None}}\n",
            "                        name     role        type demographic  \\\n",
            "0                        age  Feature     Integer         Age   \n",
            "1                    anaemia  Feature      Binary        None   \n",
            "2   creatinine_phosphokinase  Feature     Integer        None   \n",
            "3                   diabetes  Feature      Binary        None   \n",
            "4          ejection_fraction  Feature     Integer        None   \n",
            "5        high_blood_pressure  Feature      Binary        None   \n",
            "6                  platelets  Feature  Continuous        None   \n",
            "7           serum_creatinine  Feature  Continuous        None   \n",
            "8               serum_sodium  Feature     Integer        None   \n",
            "9                        sex  Feature      Binary         Sex   \n",
            "10                   smoking  Feature      Binary        None   \n",
            "11                      time  Feature     Integer        None   \n",
            "12               death_event   Target      Binary        None   \n",
            "\n",
            "                                          description             units  \\\n",
            "0                                  age of the patient             years   \n",
            "1           decrease of red blood cells or hemoglobin              None   \n",
            "2                level of the CPK enzyme in the blood             mcg/L   \n",
            "3                         if the patient has diabetes              None   \n",
            "4   percentage of blood leaving the heart at each ...                 %   \n",
            "5                     if the patient has hypertension              None   \n",
            "6                              platelets in the blood  kiloplatelets/mL   \n",
            "7              level of serum creatinine in the blood             mg/dL   \n",
            "8                  level of serum sodium in the blood             mEq/L   \n",
            "9                                        woman or man              None   \n",
            "10                       if the patient smokes or not              None   \n",
            "11                                   follow-up period              days   \n",
            "12    if the patient died during the follow-up period              None   \n",
            "\n",
            "   missing_values  \n",
            "0              no  \n",
            "1              no  \n",
            "2              no  \n",
            "3              no  \n",
            "4              no  \n",
            "5              no  \n",
            "6              no  \n",
            "7              no  \n",
            "8              no  \n",
            "9              no  \n",
            "10             no  \n",
            "11             no  \n",
            "12             no  \n"
          ]
        }
      ]
    },
    {
      "cell_type": "code",
      "source": [
        "X.dtypes"
      ],
      "metadata": {
        "colab": {
          "base_uri": "https://localhost:8080/"
        },
        "id": "4MAouFEYEMWc",
        "outputId": "4e4a7e44-dfbe-4766-cdb6-c9da26f2deea"
      },
      "execution_count": 11,
      "outputs": [
        {
          "output_type": "execute_result",
          "data": {
            "text/plain": [
              "age                         float64\n",
              "anaemia                       int64\n",
              "creatinine_phosphokinase      int64\n",
              "diabetes                      int64\n",
              "ejection_fraction             int64\n",
              "high_blood_pressure           int64\n",
              "platelets                   float64\n",
              "serum_creatinine            float64\n",
              "serum_sodium                  int64\n",
              "sex                           int64\n",
              "smoking                       int64\n",
              "time                          int64\n",
              "dtype: object"
            ]
          },
          "metadata": {},
          "execution_count": 11
        }
      ]
    },
    {
      "cell_type": "code",
      "source": [
        "from sklearn.preprocessing import LabelEncoder\n",
        "le = LabelEncoder()\n",
        "X['age'] = le.fit_transform(X['age'])\n",
        "X['creatinine_phosphokinase'] = le.fit_transform(X['creatinine_phosphokinase'])\n",
        "X['diabetes'] = le.fit_transform(X['diabetes'])\n",
        "X['ejection_fraction'] = le.fit_transform(X['ejection_fraction'])\n",
        "X['high_blood_pressure'] = le.fit_transform(X['high_blood_pressure'])\n",
        "X['platelets'] = le.fit_transform(X['platelets'])\n",
        "X['serum_creatinine'] = le.fit_transform(X['serum_creatinine'])\n",
        "X['serum_sodium'] = le.fit_transform(X['serum_sodium'])\n",
        "X['sex'] = le.fit_transform(X['sex'])\n",
        "X['smoking'] = le.fit_transform(X['smoking'])\n",
        "X['time'] = le.fit_transform(X['time'])"
      ],
      "metadata": {
        "id": "Fa6AUlwmEnLQ"
      },
      "execution_count": 22,
      "outputs": []
    },
    {
      "cell_type": "code",
      "source": [
        "X.head"
      ],
      "metadata": {
        "colab": {
          "base_uri": "https://localhost:8080/"
        },
        "id": "nFHftnYHH3NL",
        "outputId": "1f9f9626-b9f7-4430-ef49-0257f1fbe798"
      },
      "execution_count": 23,
      "outputs": [
        {
          "output_type": "execute_result",
          "data": {
            "text/plain": [
              "<bound method NDFrame.head of      age  anaemia  creatinine_phosphokinase  diabetes  ejection_fraction  \\\n",
              "0     34        0                       144         0                  3   \n",
              "1     15        0                       207         0                  7   \n",
              "2     26        0                        66         0                  3   \n",
              "3     10        1                        44         0                  3   \n",
              "4     26        1                        74         1                  3   \n",
              "..   ...      ...                       ...       ...                ...   \n",
              "294   23        0                        12         1                  7   \n",
              "295   15        0                       186         0                  7   \n",
              "296    5        0                       191         1                 12   \n",
              "297    5        0                       195         0                  7   \n",
              "298   10        0                        87         0                  9   \n",
              "\n",
              "     high_blood_pressure  platelets  serum_creatinine  serum_sodium  sex  \\\n",
              "0                      1         93                17             9    1   \n",
              "1                      0         91                 7            15    1   \n",
              "2                      0         26                10             8    1   \n",
              "3                      0         49                17            16    1   \n",
              "4                      0        133                24             1    0   \n",
              "..                   ...        ...               ...           ...  ...   \n",
              "294                    1         24                 7            22    1   \n",
              "295                    0         97                 9            18    0   \n",
              "296                    0        174                 4            17    0   \n",
              "297                    0         17                11            19    1   \n",
              "298                    0        157                13            15    1   \n",
              "\n",
              "     smoking  time  \n",
              "0          0     0  \n",
              "1          0     1  \n",
              "2          1     2  \n",
              "3          0     2  \n",
              "4          0     3  \n",
              "..       ...   ...  \n",
              "294        1   143  \n",
              "295        0   144  \n",
              "296        0   145  \n",
              "297        1   146  \n",
              "298        1   147  \n",
              "\n",
              "[299 rows x 12 columns]>"
            ]
          },
          "metadata": {},
          "execution_count": 23
        }
      ]
    },
    {
      "cell_type": "code",
      "source": [
        "# Create a StandardScaler instance\n",
        "scaler = StandardScaler()\n",
        "\n",
        "# Fit and transform the data\n",
        "X_normalized = scaler.fit_transform(X)"
      ],
      "metadata": {
        "id": "mXhaDPHTIz8O"
      },
      "execution_count": 24,
      "outputs": []
    },
    {
      "cell_type": "code",
      "source": [
        "from sklearn.model_selection import train_test_split\n",
        "\n",
        "# Split the data into training and testing sets\n",
        "X_train, X_test, y_train, y_test = train_test_split(X_normalized, y, test_size=0.2, random_state=42)"
      ],
      "metadata": {
        "id": "TYiTB3fOJa0E"
      },
      "execution_count": 32,
      "outputs": []
    },
    {
      "cell_type": "code",
      "source": [
        "from sklearn.tree import DecisionTreeClassifier\n",
        "\n",
        "# Create a DecisionTreeClassifier instance\n",
        "decision_tree = DecisionTreeClassifier(random_state=42)\n",
        "\n",
        "# Fit the model to the training data\n",
        "decision_tree.fit(X_train, y_train)\n"
      ],
      "metadata": {
        "colab": {
          "base_uri": "https://localhost:8080/",
          "height": 75
        },
        "id": "6y3dauZhJ0_i",
        "outputId": "47bd516c-af16-4977-adbb-5b36b7ae4f24"
      },
      "execution_count": 26,
      "outputs": [
        {
          "output_type": "execute_result",
          "data": {
            "text/plain": [
              "DecisionTreeClassifier(random_state=42)"
            ],
            "text/html": [
              "<style>#sk-container-id-1 {color: black;background-color: white;}#sk-container-id-1 pre{padding: 0;}#sk-container-id-1 div.sk-toggleable {background-color: white;}#sk-container-id-1 label.sk-toggleable__label {cursor: pointer;display: block;width: 100%;margin-bottom: 0;padding: 0.3em;box-sizing: border-box;text-align: center;}#sk-container-id-1 label.sk-toggleable__label-arrow:before {content: \"▸\";float: left;margin-right: 0.25em;color: #696969;}#sk-container-id-1 label.sk-toggleable__label-arrow:hover:before {color: black;}#sk-container-id-1 div.sk-estimator:hover label.sk-toggleable__label-arrow:before {color: black;}#sk-container-id-1 div.sk-toggleable__content {max-height: 0;max-width: 0;overflow: hidden;text-align: left;background-color: #f0f8ff;}#sk-container-id-1 div.sk-toggleable__content pre {margin: 0.2em;color: black;border-radius: 0.25em;background-color: #f0f8ff;}#sk-container-id-1 input.sk-toggleable__control:checked~div.sk-toggleable__content {max-height: 200px;max-width: 100%;overflow: auto;}#sk-container-id-1 input.sk-toggleable__control:checked~label.sk-toggleable__label-arrow:before {content: \"▾\";}#sk-container-id-1 div.sk-estimator input.sk-toggleable__control:checked~label.sk-toggleable__label {background-color: #d4ebff;}#sk-container-id-1 div.sk-label input.sk-toggleable__control:checked~label.sk-toggleable__label {background-color: #d4ebff;}#sk-container-id-1 input.sk-hidden--visually {border: 0;clip: rect(1px 1px 1px 1px);clip: rect(1px, 1px, 1px, 1px);height: 1px;margin: -1px;overflow: hidden;padding: 0;position: absolute;width: 1px;}#sk-container-id-1 div.sk-estimator {font-family: monospace;background-color: #f0f8ff;border: 1px dotted black;border-radius: 0.25em;box-sizing: border-box;margin-bottom: 0.5em;}#sk-container-id-1 div.sk-estimator:hover {background-color: #d4ebff;}#sk-container-id-1 div.sk-parallel-item::after {content: \"\";width: 100%;border-bottom: 1px solid gray;flex-grow: 1;}#sk-container-id-1 div.sk-label:hover label.sk-toggleable__label {background-color: #d4ebff;}#sk-container-id-1 div.sk-serial::before {content: \"\";position: absolute;border-left: 1px solid gray;box-sizing: border-box;top: 0;bottom: 0;left: 50%;z-index: 0;}#sk-container-id-1 div.sk-serial {display: flex;flex-direction: column;align-items: center;background-color: white;padding-right: 0.2em;padding-left: 0.2em;position: relative;}#sk-container-id-1 div.sk-item {position: relative;z-index: 1;}#sk-container-id-1 div.sk-parallel {display: flex;align-items: stretch;justify-content: center;background-color: white;position: relative;}#sk-container-id-1 div.sk-item::before, #sk-container-id-1 div.sk-parallel-item::before {content: \"\";position: absolute;border-left: 1px solid gray;box-sizing: border-box;top: 0;bottom: 0;left: 50%;z-index: -1;}#sk-container-id-1 div.sk-parallel-item {display: flex;flex-direction: column;z-index: 1;position: relative;background-color: white;}#sk-container-id-1 div.sk-parallel-item:first-child::after {align-self: flex-end;width: 50%;}#sk-container-id-1 div.sk-parallel-item:last-child::after {align-self: flex-start;width: 50%;}#sk-container-id-1 div.sk-parallel-item:only-child::after {width: 0;}#sk-container-id-1 div.sk-dashed-wrapped {border: 1px dashed gray;margin: 0 0.4em 0.5em 0.4em;box-sizing: border-box;padding-bottom: 0.4em;background-color: white;}#sk-container-id-1 div.sk-label label {font-family: monospace;font-weight: bold;display: inline-block;line-height: 1.2em;}#sk-container-id-1 div.sk-label-container {text-align: center;}#sk-container-id-1 div.sk-container {/* jupyter's `normalize.less` sets `[hidden] { display: none; }` but bootstrap.min.css set `[hidden] { display: none !important; }` so we also need the `!important` here to be able to override the default hidden behavior on the sphinx rendered scikit-learn.org. See: https://github.com/scikit-learn/scikit-learn/issues/21755 */display: inline-block !important;position: relative;}#sk-container-id-1 div.sk-text-repr-fallback {display: none;}</style><div id=\"sk-container-id-1\" class=\"sk-top-container\"><div class=\"sk-text-repr-fallback\"><pre>DecisionTreeClassifier(random_state=42)</pre><b>In a Jupyter environment, please rerun this cell to show the HTML representation or trust the notebook. <br />On GitHub, the HTML representation is unable to render, please try loading this page with nbviewer.org.</b></div><div class=\"sk-container\" hidden><div class=\"sk-item\"><div class=\"sk-estimator sk-toggleable\"><input class=\"sk-toggleable__control sk-hidden--visually\" id=\"sk-estimator-id-1\" type=\"checkbox\" checked><label for=\"sk-estimator-id-1\" class=\"sk-toggleable__label sk-toggleable__label-arrow\">DecisionTreeClassifier</label><div class=\"sk-toggleable__content\"><pre>DecisionTreeClassifier(random_state=42)</pre></div></div></div></div></div>"
            ]
          },
          "metadata": {},
          "execution_count": 26
        }
      ]
    },
    {
      "cell_type": "code",
      "source": [
        "# Make predictions on the testing data\n",
        "y_pred = decision_tree.predict(X_test)\n"
      ],
      "metadata": {
        "id": "t_9IT3YDJ6-l"
      },
      "execution_count": 27,
      "outputs": []
    },
    {
      "cell_type": "code",
      "source": [
        "from sklearn.metrics import confusion_matrix\n",
        "\n",
        "# Calculate the confusion matrix\n",
        "confusion = confusion_matrix(y_test, y_pred)\n",
        "\n",
        "print(\"Confusion Matrix:\")\n",
        "print(confusion)\n"
      ],
      "metadata": {
        "colab": {
          "base_uri": "https://localhost:8080/"
        },
        "id": "yKTorwk2LMtc",
        "outputId": "30b9a6e2-9ed4-414e-c05f-9ed158b5eb24"
      },
      "execution_count": 34,
      "outputs": [
        {
          "output_type": "stream",
          "name": "stdout",
          "text": [
            "Confusion Matrix:\n",
            "[[27  8]\n",
            " [14 11]]\n"
          ]
        }
      ]
    },
    {
      "cell_type": "code",
      "source": [
        "from sklearn.metrics import accuracy_score\n",
        "\n",
        "# Calculate accuracy on training data\n",
        "y_train_pred = decision_tree.predict(X_train)\n",
        "training_accuracy = accuracy_score(y_train, y_train_pred)\n",
        "\n",
        "# Calculate accuracy on testing data\n",
        "testing_accuracy = accuracy_score(y_test, y_pred)\n",
        "\n",
        "print(f\"Training Accuracy: {training_accuracy:.2f}\")\n",
        "print(f\"Testing Accuracy: {testing_accuracy:.2f}\")\n"
      ],
      "metadata": {
        "colab": {
          "base_uri": "https://localhost:8080/"
        },
        "id": "KK1A9iHALUaK",
        "outputId": "4a22ecfc-962d-4e5d-93ae-6334b12d1241"
      },
      "execution_count": 35,
      "outputs": [
        {
          "output_type": "stream",
          "name": "stdout",
          "text": [
            "Training Accuracy: 1.00\n",
            "Testing Accuracy: 0.63\n"
          ]
        }
      ]
    }
  ]
}